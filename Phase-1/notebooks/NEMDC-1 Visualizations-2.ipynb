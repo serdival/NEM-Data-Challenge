{
 "cells": [
  {
   "cell_type": "markdown",
   "metadata": {},
   "source": [
    "# NEM DATA CHALLENGE, Phase 1\n",
    "## Visualizations for data analysis.\n",
    "\n",
    "Following data preprocessing (data horizontalization and resampling from 1s to 10m intervals), this code aims to produce a number of visualizations to explor data and the select plots to be included in the technical report. "
   ]
  },
  {
   "cell_type": "code",
   "execution_count": null,
   "metadata": {
    "nbgrader": {
     "grade": false,
     "grade_id": "1",
     "locked": false,
     "solution": false
    }
   },
   "outputs": [],
   "source": [
    "%matplotlib inline\n",
    "import os\n",
    "import numpy as np\n",
    "import pandas as pd\n",
    "from scipy.stats import pearsonr\n",
    "import matplotlib.pyplot as plt\n",
    "import matplotlib as mpl\n",
    "import seaborn as sns\n",
    "import matplotlib.dates as mdates\n",
    "import statsmodels.api as sm\n",
    "from scipy.interpolate import UnivariateSpline"
   ]
  },
  {
   "cell_type": "code",
   "execution_count": null,
   "metadata": {
    "collapsed": true
   },
   "outputs": [],
   "source": [
    "# see the pre-defined styles provided.\n",
    "#plt.style.available"
   ]
  },
  {
   "cell_type": "code",
   "execution_count": null,
   "metadata": {},
   "outputs": [],
   "source": [
    "def read_csv_file():\n",
    "    ''' read SCADA csv file resampled at 10 min intervals'''\n",
    "\n",
    "    cwd = os.getcwd()\n",
    "    in_path  = os.path.join(cwd,'data')\n",
    "    in_file = 'may2015_scada_10m.csv'\n",
    "    in_csv = os.path.join(in_path,in_file)\n",
    "    df = pd.read_csv(in_csv)\n",
    "    indx =df.timestamp[df.timestamp==1433116800].index # index positions where datetime= 1433116800\n",
    "    df.loc[indx,'timestamp']=1433116800-1 # subtract one second to avoid date 01-06-2015\n",
    "    df['timestamp'] = pd.to_datetime(df['timestamp'], unit='s')\n",
    "    df.set_index('timestamp', drop=True, inplace=True)\n",
    "    df = df[sensor_list()] # reorder columns according to sensor list\n",
    "    df1 = df[df.asset=='A001']\n",
    "    df2 = df[df.asset=='A002']\n",
    "    df3 = df[df.asset=='A003']\n",
    "    df4 = df[df.asset=='A004']\n",
    "    df5 = df[df.asset=='A005']\n",
    "    return df,df1,df2,df3,df4,df5   \n",
    "\n",
    "def sensor_list():\n",
    "        NAC = ['WNACWindSpeed','WNACDirection','WNACWindDirection','WNACAmbTemp','WNACNacelleTemp']\n",
    "        GEN = ['WGENPhase1Temp','WGENPhase2Temp','WGENPhase3Temp',\n",
    "               'WGENGenSpeed','WGENBearNDETemp','WGENBearDETemp']\n",
    "        ROT = ['WROTPitchAngleSP','WROTSpeed','WROTPitchAngleAvg']\n",
    "        GDC = ['WGDCTrafoPhase1Temp','WGDCTrafoPhase2Temp','WGDCTrafoPhase3Temp']\n",
    "        TUR = ['WTURReactivePower','WTURReactivePowerAux','WTURPowerAux','WTURPower']\n",
    "        HDR = ['WHDRGroupOilPress','WHDRGroupOilTemp']\n",
    "        TRM = ['WTRMOilTemp','WTRMBearTemp'] \n",
    "        YAW = ['WYAWPressure']\n",
    "        CNV = ['WCNVCosPhi','WCNVNetVoltage'] #converter\n",
    "        cols = NAC+GEN+ROT+GDC+TUR+HDR+TRM+YAW+CNV+['asset']\n",
    "        return cols\n",
    "\n",
    "# Lists\n",
    "\n",
    "HCOR = ['WNACWindSpeed','WGENGenSpeed', 'WGENPhase1Temp','WROTSpeed','WTURPower','WTURReactivePower','WCNVCosPhi'  ]\n",
    "NAC = ['WNACWindSpeed','WNACDirection','WNACWindDirection','WNACAmbTemp','WNACNacelleTemp']\n",
    "GEN = ['WGENPhase1Temp','WGENPhase2Temp','WGENPhase3Temp',\n",
    "        'WGENGenSpeed','WGENBearNDETemp','WGENBearDETemp']\n",
    "ROT = ['WROTPitchAngleSP','WROTSpeed','WROTPitchAngleAvg']\n",
    "GDC = ['WGDCTrafoPhase1Temp','WGDCTrafoPhase2Temp','WGDCTrafoPhase3Temp']\n",
    "TUR = ['WTURReactivePower','WTURReactivePowerAux','WTURPowerAux','WTURPower']\n",
    "HDR = ['WHDRGroupOilPress','WHDRGroupOilTemp']\n",
    "TRM = ['WTRMOilTemp','WTRMBearTemp']\n",
    "YAW = ['WYAWPressure']\n",
    "CNV = ['WCNVCosPhi','WCNVNetVoltage']\n",
    "TEMPS = ['WNACAmbTemp','WNACNacelleTemp','WGENPhase1Temp','WGENBearNDETemp','WGENBearDETemp', \n",
    "         'WGDCTrafoPhase1Temp','WHDRGroupOilTemp' ,'WTRMOilTemp','WTRMBearTemp' ]\n",
    "ALL =  NAC+GEN+ROT+GDC+TUR+HDR+TRM+YAW+CNV+['asset']\n",
    "ALL2 = NAC+GEN+ROT+GDC+TUR+HDR+TRM+YAW+CNV\n",
    "LIS = ['WNACWindSpeed','WTURPower','WROTSpeed']\n",
    "ASS = ['asset']    "
   ]
  },
  {
   "cell_type": "code",
   "execution_count": null,
   "metadata": {},
   "outputs": [],
   "source": [
    "# Read csv and assign one dataframe per asset + one global dataset\n",
    "dfall,df1,df2,df3,df4,df5 = read_csv_file()\n",
    "# create dataframe as the mean of dataframes df1 to df5\n",
    "df6 = dfall.groupby(dfall.index).mean()\n",
    "\n",
    "# Resample info to daily basis\n",
    "dfd= dfall.groupby('asset').resample('D').mean()\n",
    "dfd.reset_index(level=['asset'], inplace=True)\n",
    "dfd1 = dfd[dfd.asset=='A001']\n",
    "dfd2 = dfd[dfd.asset=='A002']\n",
    "dfd3 = dfd[dfd.asset=='A003']\n",
    "dfd4 = dfd[dfd.asset=='A004']\n",
    "dfd5 = dfd[dfd.asset=='A005']\n",
    "dfd6 = dfd.groupby(dfd.index).mean()"
   ]
  },
  {
   "cell_type": "code",
   "execution_count": null,
   "metadata": {},
   "outputs": [],
   "source": [
    "# dataframe with all scada variables and assets (A001 to A005)\n",
    "dfall.head()"
   ]
  },
  {
   "cell_type": "markdown",
   "metadata": {},
   "source": [
    "### Calculate the Correlation Matrix"
   ]
  },
  {
   "cell_type": "code",
   "execution_count": null,
   "metadata": {},
   "outputs": [],
   "source": [
    "# As example, calculate the correlation matrix for asset A003 (df3)\n",
    "dfc=df3.corr()\n",
    "x= 0.4  # Define threshold value\n",
    "dfc = dfc[(dfc>=x)& (dfc<1)|(dfc<=-x)&(dfc>-1)]\n",
    "dfc = dfc.dropna(axis=0, how='all')\n",
    "dfc = dfc.dropna(axis=1, how='all')\n",
    "dfc"
   ]
  },
  {
   "cell_type": "code",
   "execution_count": null,
   "metadata": {},
   "outputs": [],
   "source": [
    "df1.describe().T"
   ]
  },
  {
   "cell_type": "markdown",
   "metadata": {},
   "source": [
    "### Identify Missing Values in csv files"
   ]
  },
  {
   "cell_type": "code",
   "execution_count": null,
   "metadata": {
    "scrolled": true
   },
   "outputs": [],
   "source": [
    "df=dfall\n",
    "nans= pd.isnull(df).any(1).nonzero()[0]\n",
    "nansx = df.index[nans]\n",
    "print(len(nansx))\n",
    "nansx"
   ]
  },
  {
   "cell_type": "markdown",
   "metadata": {},
   "source": [
    "## Time Series"
   ]
  },
  {
   "cell_type": "code",
   "execution_count": null,
   "metadata": {
    "scrolled": false
   },
   "outputs": [],
   "source": [
    "df = df1.copy()\n",
    "col1 = ['WTURPower']\n",
    "col2 = ['WNACWindSpeed']\n",
    "fig, (ax1, ax2) = plt.subplots(2, 1, sharex=True, sharey=False, figsize=(9,6) )\n",
    "df[col1].plot( ax=ax1)\n",
    "df[col2].plot( ax=ax2)"
   ]
  },
  {
   "cell_type": "markdown",
   "metadata": {},
   "source": [
    "### Cumulative distribution"
   ]
  },
  {
   "cell_type": "code",
   "execution_count": null,
   "metadata": {},
   "outputs": [],
   "source": [
    "col1=['WNACWindSpeed']\n",
    "col2 = ['WTURPower']\n",
    "df=df5.copy()\n",
    "df[col1].plot.hist(alpha=0.7, bins=500,figsize=(8,4), cumulative=True, normed=True);\n",
    "df[col2].plot.hist(alpha=0.7, bins=500,figsize=(8,4), cumulative=True, normed = True);"
   ]
  },
  {
   "cell_type": "markdown",
   "metadata": {
    "collapsed": true
   },
   "source": [
    "### Comparison between each asset signal to mean time series."
   ]
  },
  {
   "cell_type": "code",
   "execution_count": null,
   "metadata": {},
   "outputs": [],
   "source": [
    "# A total of 28 SCADA variables are contained in the csv files. \n",
    "# limite the number of plots showns by setting N to a value in between 1 and 28\n",
    "\n",
    "N=2\n",
    "for item in ALL2[0:N]:\n",
    "    #col = ['WNACWindSpeed','WTURPower']\n",
    "    fig, ((ax1, ax2),( ax3, ax4),( ax5, ax6)) = plt.subplots(3, 2, figsize=(9,5), sharex=True, sharey=True )\n",
    "    (df1[item]-df6[item]).plot( ax=ax1)\n",
    "    #ax1.set_ylabel('Units')\n",
    "    ax1.set_title(item)\n",
    "    (df2[item]-df6[item]).plot( ax=ax2)\n",
    "    (df3[item]-df6[item]).plot( ax=ax3)\n",
    "    (df4[item]-df6[item]).plot( ax=ax4)\n",
    "    (df5[item]-df6[item]).plot( ax=ax5)\n",
    "    (df6[item]-df6[item]).plot( ax=ax6)"
   ]
  },
  {
   "cell_type": "markdown",
   "metadata": {
    "collapsed": true
   },
   "source": [
    "### Time series for All assets"
   ]
  },
  {
   "cell_type": "code",
   "execution_count": null,
   "metadata": {},
   "outputs": [],
   "source": [
    "# A total of 28 SCADA variables are contained in the csv files. \n",
    "# limite the number of plots showns by setting N to a value in between 1 and 28\n",
    "N=2\n",
    "\n",
    "for item in ALL2[0:N]:\n",
    "    fig, ((ax1, ax2),( ax3, ax4),( ax5, ax6)) = plt.subplots(3, 2, figsize=(9,5), sharex=True, sharey=True )\n",
    "    (df1[item]).plot( ax=ax1)\n",
    "    #ax1.set_ylabel('Units')\n",
    "    ax1.set_title(item)\n",
    "    (df2[item]).plot( ax=ax2)\n",
    "    (df3[item]).plot( ax=ax3)\n",
    "    (df4[item]).plot( ax=ax4)\n",
    "    (df5[item]).plot( ax=ax5)\n",
    "    (df6[item]).plot( ax=ax6)"
   ]
  },
  {
   "cell_type": "markdown",
   "metadata": {},
   "source": [
    "### BOXPLOT Group by asset"
   ]
  },
  {
   "cell_type": "code",
   "execution_count": null,
   "metadata": {},
   "outputs": [],
   "source": [
    "# A total of 28 SCADA variables are contained in the csv files. \n",
    "# limite the number of plots showns by setting N to a value in between 1 and 28\n",
    "N=2\n",
    "\n",
    "sensors = dfall.columns.tolist()\n",
    "for sensor in sensors[0:N]:\n",
    "    fig, ax = plt.subplots( figsize=(5, 3))\n",
    "    dfall[[sensor, 'asset']].boxplot(by='asset', ax=ax, showmeans=True, whis=[1, 99], sym='.')\n",
    "    ax.set_title(sensor)\n",
    "    #ax.suptitle=''\n",
    "    ax.yaxis.grid(False)\n",
    "    ax.xaxis.grid(False)\n",
    "    fig.suptitle('')\n",
    "    #sfig('bp-'+sensor)"
   ]
  },
  {
   "cell_type": "markdown",
   "metadata": {},
   "source": [
    "### Time Series Plot showing sub-optimal data-pairs"
   ]
  },
  {
   "cell_type": "code",
   "execution_count": null,
   "metadata": {
    "scrolled": false
   },
   "outputs": [],
   "source": [
    "dfA= df2.copy()\n",
    "dfB = dfA[(dfA.WTURPower<0.95)&(dfA.WNACWindSpeed>0.35)]\n",
    "item1 = 'WNACWindSpeed'\n",
    "fig, (ax1) = plt.subplots( figsize=(9,3) )\n",
    "dfA[item1].plot(ax=ax1, lw=.3, legend=item1)\n",
    "dfB[item1].plot(style='r.-', lw=0, ax=ax1)\n",
    "myFmt = mdates.DateFormatter('%d')\n",
    "ax1.xaxis.set_major_formatter(myFmt)\n",
    "ax1.set_xlabel('May 2015')\n",
    "\n",
    "plt.setp( ax1.xaxis.get_majorticklabels(), rotation=0 );"
   ]
  },
  {
   "cell_type": "code",
   "execution_count": null,
   "metadata": {
    "collapsed": true
   },
   "outputs": [],
   "source": [
    "# Variables list\n",
    "\n",
    "NAC = ['WNACWindSpeed','WNACDirection','WNACWindDirection','WNACAmbTemp','WNACNacelleTemp']\n",
    "GEN = ['WGENPhase1Temp','WGENPhase2Temp','WGENPhase3Temp',\n",
    "        'WGENGenSpeed','WGENBearNDETemp','WGENBearDETemp']\n",
    "ROT = ['WROTPitchAngleSP','WROTSpeed','WROTPitchAngleAvg']\n",
    "GDC = ['WGDCTrafoPhase1Temp','WGDCTrafoPhase2Temp','WGDCTrafoPhase3Temp']\n",
    "TUR = ['WTURReactivePower','WTURReactivePowerAux','WTURPowerAux','WTURPower']\n",
    "HDR = ['WHDRGroupOilPress','WHDRGroupOilTemp']\n",
    "TRM = ['WTRMOilTemp','WTRMBearTemp']\n",
    "YAW = ['WYAWPressure']\n",
    "CNV = ['WCNVCosPhi','WCNVNetVoltage']\n",
    "TEMPS = ['WNACAmbTemp','WNACNacelleTemp','WGENPhase1Temp','WGENBearNDETemp','WGENBearDETemp', \n",
    "         'WGDCTrafoPhase1Temp','WHDRGroupOilTemp' ,'WTRMOilTemp','WTRMBearTemp' ]"
   ]
  },
  {
   "cell_type": "code",
   "execution_count": null,
   "metadata": {},
   "outputs": [],
   "source": [
    "dfA= df1.copy()\n",
    "dfB = dfA[(dfA.WTURPower<0.95)&(dfA.WNACWindSpeed>0.35)]\n",
    "item1 = 'WTRMBearTemp'\n",
    "item2 = 'WTRMOilTemp'\n",
    "item3 = 'WGENBearNDETemp'\n",
    "item4 = 'WROTPitchAngleSP'\n",
    "\n",
    "fig, ((ax1,ax2),(ax3,ax4)) = plt.subplots(2,2, sharex=True, figsize=(15,10) )\n",
    "\n",
    "dfA[item1].plot(ax=ax1, lw=.3)#, legend=item1)\n",
    "dfA[item2].plot(ax=ax2, lw=.3)#, legend=item2)\n",
    "dfA[item3].plot(ax=ax3, lw=.3)#, legend=item3)\n",
    "dfA[item4].plot(ax=ax4, lw=.3)#, legend=item4)\n",
    "\n",
    "dfB[item1].plot(style='r.-', lw=0, ax=ax1, legend='')\n",
    "dfB[item2].plot(style='r.-', lw=0, ax=ax2, legend='')\n",
    "dfB[item3].plot(style='r.-', lw=0, ax=ax3, legend='')\n",
    "dfB[item4].plot(style='r.-', lw=0, ax=ax4, legend='')\n",
    "\n",
    "ax1.set_title(item1)\n",
    "ax2.set_title(item2)\n",
    "ax3.set_title(item3)\n",
    "ax4.set_title(item4)\n",
    "\n",
    "ax1.spines['bottom'].set_color('none')\n",
    "ax2.spines['bottom'].set_color('none')\n",
    "\n",
    "myFmt = mdates.DateFormatter('%d')\n",
    "ax3.xaxis.set_major_formatter(myFmt)\n",
    "ax3.set_xlabel('May 2015')\n",
    "ax4.xaxis.set_major_formatter(myFmt)\n",
    "ax4.set_xlabel('May 2015')\n",
    "\n",
    "plt.setp( ax3.xaxis.get_majorticklabels(), rotation=0 )\n",
    "plt.setp( ax4.xaxis.get_majorticklabels(), rotation=0 );"
   ]
  },
  {
   "cell_type": "code",
   "execution_count": null,
   "metadata": {},
   "outputs": [],
   "source": [
    "dfA= df2.copy()\n",
    "dfB = dfA[(dfA.WTURPower<0.95)&(dfA.WNACWindSpeed>0.35)]\n",
    "\n",
    "item1 = 'WGENBearDETemp'\n",
    "item2 = 'WROTPitchAngleSP'\n",
    "item3 = 'WHDRGroupOilTemp'\n",
    "item4 = 'WTRMOilTemp'\n",
    "\n",
    "fig, ((ax1,ax2),(ax3,ax4)) = plt.subplots(2,2, sharex=True, figsize=(15,10) )\n",
    "\n",
    "dfA[item1].plot(ax=ax1, lw=.3)#, legend=item1)\n",
    "dfA[item2].plot(ax=ax2, lw=.3)#, legend=item2)\n",
    "dfA[item3].plot(ax=ax3, lw=.3)#, legend=item3)\n",
    "dfA[item4].plot(ax=ax4, lw=.3)#, legend=item4)\n",
    "\n",
    "dfB[item1].plot(style='r.-', lw=0, ax=ax1, legend='')\n",
    "dfB[item2].plot(style='r.-', lw=0, ax=ax2, legend='')\n",
    "dfB[item3].plot(style='r.-', lw=0, ax=ax3, legend='')\n",
    "dfB[item4].plot(style='r.-', lw=0, ax=ax4, legend='')\n",
    "\n",
    "ax1.set_title(item1)\n",
    "ax2.set_title(item2)\n",
    "ax3.set_title(item3)\n",
    "ax4.set_title(item4)\n",
    "\n",
    "ax1.spines['bottom'].set_color('none')\n",
    "ax2.spines['bottom'].set_color('none')\n",
    "\n",
    "myFmt = mdates.DateFormatter('%d')\n",
    "ax3.xaxis.set_major_formatter(myFmt)\n",
    "ax3.set_xlabel('May 2015')\n",
    "ax4.xaxis.set_major_formatter(myFmt)\n",
    "ax4.set_xlabel('May 2015');"
   ]
  },
  {
   "cell_type": "markdown",
   "metadata": {},
   "source": [
    "### PAIR SCATTER PLOTS"
   ]
  },
  {
   "cell_type": "code",
   "execution_count": null,
   "metadata": {
    "scrolled": false
   },
   "outputs": [],
   "source": [
    "HCOR = ['WNACWindSpeed','WGENGenSpeed','WROTSpeed','WTURPower','WTURReactivePower','WCNVCosPhi'  ]\n",
    "sns.set(style=\"ticks\")\n",
    "df=df6[HCOR]\n",
    "sns.pairplot(df, diag_kind='hist', markers='.', size=2);"
   ]
  },
  {
   "cell_type": "markdown",
   "metadata": {},
   "source": [
    "## POWER CURVE ZOOM to detect sub optimal points"
   ]
  },
  {
   "cell_type": "code",
   "execution_count": null,
   "metadata": {},
   "outputs": [],
   "source": [
    "fig, (ax1) = plt.subplots( sharex=True, sharey=True,figsize=(5,5) )\n",
    "ax1.set_ylim([0.2,1.1])\n",
    "ax1.set_xlim([0.2,0.6])\n",
    "df1.plot.scatter('WNACWindSpeed', 'WTURPower', c='r', ax=ax1, marker='.', label='A001')\n",
    "df2.plot.scatter('WNACWindSpeed', 'WTURPower', c='b', ax=ax1, marker='.', label='A002')\n",
    "df3.plot.scatter('WNACWindSpeed', 'WTURPower', c='g', ax=ax1, marker='.', label='A003')\n",
    "df4.plot.scatter('WNACWindSpeed', 'WTURPower', c='y', ax=ax1, marker='.', label='A004')\n",
    "df5.plot.scatter('WNACWindSpeed', 'WTURPower', c='c', ax=ax1, marker='.', label= 'A005');"
   ]
  },
  {
   "cell_type": "code",
   "execution_count": null,
   "metadata": {},
   "outputs": [],
   "source": [
    "fig, ax = plt.subplots( figsize=(8, 3))\n",
    "y = 'WNACAmbTemp'\n",
    "df6.boxplot(y, by=df6.index.day, ax=ax, rot=0, fontsize=8, showmeans=True)\n",
    "ax.set_title('WNAC Ambient Temperature variation in May 2015')\n",
    "fig.suptitle('')\n",
    "ax.set_xlabel(\"Day\");"
   ]
  },
  {
   "cell_type": "markdown",
   "metadata": {},
   "source": [
    "## DAILY MEASUREMENTS"
   ]
  },
  {
   "cell_type": "code",
   "execution_count": null,
   "metadata": {},
   "outputs": [],
   "source": [
    "fig, ax = plt.subplots(nrows=1, ncols=1, figsize=(8, 3))\n",
    "x=df6.index.dayofyear-120\n",
    "sns.boxplot(x, df6.WNACAmbTemp, ax=ax);"
   ]
  },
  {
   "cell_type": "markdown",
   "metadata": {},
   "source": [
    "### KDE Distributions"
   ]
  },
  {
   "cell_type": "code",
   "execution_count": null,
   "metadata": {
    "scrolled": false
   },
   "outputs": [],
   "source": [
    "# A total of 28 SCADA variables are contained in the csv files. \n",
    "# limite the number of plots showns by setting N to a value in between 1 and 28\n",
    "N=2\n",
    "sensors = dfall.columns.tolist()\n",
    "for sensor in sensors[0:N]:\n",
    "    fig, ax = plt.subplots(figsize=(3, 2))\n",
    "    sns.kdeplot(df1[sensor], label=\"\")\n",
    "    sns.kdeplot(df2[sensor], label=\"\")\n",
    "    sns.kdeplot(df3[sensor], label=\"\")\n",
    "    sns.kdeplot(df4[sensor], label=\"\")\n",
    "    sns.kdeplot(df5[sensor], label=\"\")   \n",
    "    ax.set_title(sensor)"
   ]
  },
  {
   "cell_type": "markdown",
   "metadata": {},
   "source": [
    "## Plot all columns in dataframe as time series"
   ]
  },
  {
   "cell_type": "code",
   "execution_count": null,
   "metadata": {
    "scrolled": false
   },
   "outputs": [],
   "source": [
    "df = df1.copy()\n",
    "COL = NAC+GEN+ROT+GDC+TUR+HDR+TRM+YAW\n",
    "df[COL].plot(subplots=True, figsize=(8,50));"
   ]
  },
  {
   "cell_type": "code",
   "execution_count": null,
   "metadata": {},
   "outputs": [],
   "source": [
    "fig, (ax1) = plt.subplots(figsize=(10,5), sharex=True, sharey=True )\n",
    "colors = ['b','c']\n",
    "for idx , item in enumerate (['WNACAmbTemp','WNACNacelleTemp']):\n",
    "    df2[item].plot(color =colors[idx], ax=ax1, label=item)\n",
    "    #ax1.set_ylabel('Units')\n",
    "    ax1.set_title(item)"
   ]
  },
  {
   "cell_type": "markdown",
   "metadata": {},
   "source": [
    "### Ambien and Nacelle Temperature"
   ]
  },
  {
   "cell_type": "code",
   "execution_count": null,
   "metadata": {
    "scrolled": false
   },
   "outputs": [],
   "source": [
    "a = ['WNACAmbTemp']\n",
    "b = ['WNACNacelleTemp']\n",
    "df=df6\n",
    "\n",
    "fig, (ax1, ax2) = plt.subplots(2, 1, figsize=(11,5))\n",
    "plt.subplots_adjust(hspace = .001)\n",
    "\n",
    "df.plot(x=df.index, y=a, color ='c', ax=ax1);\n",
    "df.plot(x=df.index, y=b, color ='b', ax=ax1);\n",
    "ax1.set_title('Ambient and Nacelle Temperature variation during May 2015');\n",
    "ax1.set_xlabel('')\n",
    "ax1.set_xticklabels([])\n",
    "ax1.spines['bottom'].set_color('none')\n",
    "\n",
    "x = df.index.day\n",
    "y = df6.WNACAmbTemp\n",
    "sns.boxplot(x,y , ax=ax2, color='white', width=.5, fliersize=0)\n",
    "ax2.set_title('')\n",
    "ax2.set_xlabel('')\n",
    "\n",
    "# figure styles\n",
    "sns.set_style('white')\n",
    "sns.set_context('paper', font_scale=1.2)\n",
    "#sns.set_style('ticks', {'axes.edgecolor': '0', 'xtick.color': '0', 'ytick.color': '0'})\n",
    "sns.despine(offset=5, trim=True)\n",
    "plt.setp(ax2.artists, edgecolor = 'k', facecolor='w')\n",
    "plt.setp(ax2.lines, color='k');\n",
    "\n",
    "#sfig('TempVar')"
   ]
  },
  {
   "cell_type": "markdown",
   "metadata": {},
   "source": [
    "### Cp vs Turbine Tip Speed Curve"
   ]
  },
  {
   "cell_type": "code",
   "execution_count": null,
   "metadata": {},
   "outputs": [],
   "source": [
    "df=df1.copy()\n",
    "df['Cp']=df['WTURPower']/(df['WNACWindSpeed']**3)\n",
    "df['Cp']= df['Cp']/df['Cp'].max()\n",
    "df['lambda']=df['WROTSpeed']/df['WNACWindSpeed']\n",
    "df['lambda']= df['lambda']/df['lambda'].max()\n",
    "L = 'lambda'\n",
    "Ws = 'WNACWindSpeed'\n",
    "Cp = 'Cp'\n",
    "fig, ax1 = plt.subplots(1, 1, sharex=True, sharey=True,figsize=(10,4) )\n",
    "df.plot.scatter(L,Cp , ax=ax1, marker='.');\n",
    "#ax1.set_xlabel('WNACWindSpeed')\n",
    "#ax1.set_ylabel('WROTSpeed')\n",
    "ax1.set_title('Asset')\n",
    "ax1.set_ylim(-.25, 1);"
   ]
  },
  {
   "cell_type": "code",
   "execution_count": null,
   "metadata": {},
   "outputs": [],
   "source": [
    "df=dfall.copy()\n",
    "df=df[df.WNACWindSpeed>0.06]\n",
    "p = np.polyfit(df['WNACWindSpeed'], df['WTURPower'], 10)\n",
    "Pfit = np.poly1d(p)\n",
    "df['Pfit'] = Pfit(df['WNACWindSpeed'])\n",
    "\n",
    "y = 'WTURPower'\n",
    "x = 'WNACWindSpeed'\n",
    "\n",
    "fig, ax1 = plt.subplots(figsize=(10,4) )\n",
    "df.plot.scatter(x, y ,ax=ax1, marker='.');"
   ]
  },
  {
   "cell_type": "code",
   "execution_count": null,
   "metadata": {
    "collapsed": true
   },
   "outputs": [],
   "source": [
    "def mystyle():\n",
    "    \n",
    "    \n",
    "    plt.style.use('seaborn-white')\n",
    "    plt.rcParams ['axes.grid']=False \n",
    "    plt.rcParams ['axes.spines.left']   = True   # display axis spines\n",
    "    plt.rcParams ['axes.spines.bottom'] = True\n",
    "    plt.rcParams ['axes.spines.top']    = False\n",
    "    plt.rcParams ['axes.spines.right']  = False\n",
    "    \n",
    "    \n",
    "    #plt.style.use('ggplot')\n",
    "    #mpl.rcParams['font.size'] = 12\n",
    "    #mpl.rcParams['legend.fontsize'] = 'large'\n",
    "    #mpl.rcParams['figure.titlesize'] = 'medium'\n",
    "    #mpl.rcParams['grid.color'] = 'k'\n",
    "    #mpl.rcParams['grid.linestyle'] = ':'\n",
    "    #mpl.rcParams['grid.linewidth'] = 0.5\n",
    "    #plt.rcParams['axes.facecolor'] = 'white'\n",
    "    \n",
    "    ### AXES\n",
    "    # default face and edge color, default tick sizes,\n",
    "    # default fontsizes for ticklabels, and so on.  See\n",
    "    # http://matplotlib.org/api/axes_api.html#module-matplotlib.axes\n",
    "    #axes.facecolor      : white   # axes background color\n",
    "    #axes.edgecolor      : black   # axes edge color\n",
    "    #axes.linewidth      : 0.8     # edge linewidth\n",
    "    #axes.grid           : False   # display grid or not\n",
    "    #axes.titlesize      : large   # fontsize of the axes title\n",
    "    #axes.titlepad       : 6.0     # pad between axes and title in points\n",
    "    #axes.labelsize      : medium  # fontsize of the x any y labels\n",
    "    #axes.labelpad       : 4.0     # space between label and axis\n",
    "    #axes.labelweight    : normal  # weight of the x and y labels\n",
    "    #axes.labelcolor     : black\n",
    "    #axes.axisbelow      : 'line'  # draw axis gridlines and ticks below\n",
    "                                   # patches (True); above patches but below\n",
    "                                   # lines ('line'); or above all (False)\n",
    "\n",
    "    #axes.formatter.limits : -7, 7 # use scientific notation if log10\n",
    "                                   # of the axis range is smaller than the\n",
    "                                   # first or larger than the second\n",
    "    #axes.formatter.use_locale : False # When True, format tick labels\n",
    "                                       # according to the user's locale.\n",
    "                                       # For example, use ',' as a decimal\n",
    "                                       # separator in the fr_FR locale.\n",
    "    #axes.formatter.use_mathtext : False # When True, use mathtext for scientific\n",
    "                                         # notation.\n",
    "    #axes.formatter.useoffset      : True    # If True, the tick label formatter\n",
    "                                             # will default to labeling ticks relative\n",
    "                                             # to an offset when the data range is\n",
    "                                             # small compared to the minimum absolute\n",
    "                                             # value of the data.\n",
    "    #axes.formatter.offset_threshold : 4     # When useoffset is True, the offset\n",
    "                                             # will be used when it can remove\n",
    "                                             # at least this number of significant\n",
    "                                             # digits from tick labels.\n",
    "\n",
    "    # axes.spines.left   : True   # display axis spines\n",
    "    # axes.spines.bottom : True\n",
    "    # axes.spines.top    : True\n",
    "    # axes.spines.right  : True\n",
    "\n",
    "    #axes.xmargin        : .05  # x margin.  See `axes.Axes.margins`\n",
    "    #axes.ymargin        : .05  # y margin See `axes.Axes.margins`\n"
   ]
  }
 ],
 "metadata": {
  "anaconda-cloud": {},
  "coursera": {
   "course_slug": "python-data-analysis",
   "graded_item_id": "tHmgx",
   "launcher_item_id": "Um6Bz",
   "part_id": "OQsnr"
  },
  "kernelspec": {
   "display_name": "Python [conda env:py35]",
   "language": "python",
   "name": "conda-env-py35-py"
  },
  "language_info": {
   "codemirror_mode": {
    "name": "ipython",
    "version": 3
   },
   "file_extension": ".py",
   "mimetype": "text/x-python",
   "name": "python",
   "nbconvert_exporter": "python",
   "pygments_lexer": "ipython3",
   "version": "3.5.3"
  }
 },
 "nbformat": 4,
 "nbformat_minor": 1
}
